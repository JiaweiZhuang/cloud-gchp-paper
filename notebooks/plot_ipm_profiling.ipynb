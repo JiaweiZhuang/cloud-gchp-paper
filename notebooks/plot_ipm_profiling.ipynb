{
 "cells": [
  {
   "cell_type": "code",
   "execution_count": 1,
   "metadata": {},
   "outputs": [],
   "source": [
    "%matplotlib inline\n",
    "import matplotlib.pyplot as plt\n",
    "import pandas as pd\n",
    "import numpy as np\n",
    "\n",
    "from matplotlib.ticker import ScalarFormatter\n",
    "\n",
    "from ipm_util import log_to_dataframe  # https://github.com/JiaweiZhuang/ipm_util\n",
    "from brokenaxes import brokenaxes"
   ]
  },
  {
   "cell_type": "markdown",
   "metadata": {},
   "source": [
    "# Read logs"
   ]
  },
  {
   "cell_type": "code",
   "execution_count": 2,
   "metadata": {},
   "outputs": [
    {
     "name": "stdout",
     "output_type": "stream",
     "text": [
      "total 27760\n",
      "-rw-r--r--  1 zhuangjw  staff   1.4M Sep 29 14:30 N16n576_intelmpi-EFA_4x5met_nooutput.ipm.xml\n",
      "-rw-r--r--  1 zhuangjw  staff   1.3M Oct 20 15:12 N16n576_intelmpi-TCP_nooutput.ipm.xml\n",
      "-rw-r--r--  1 zhuangjw  staff   1.4M Sep 29 14:38 N16n576_openmpi_4x5met_nooutput.ipm.xml\n",
      "-rw-r--r--  1 zhuangjw  staff   2.7M Sep 29 17:22 N32n1152_intelmpi-EFA_4x5met_nooutput.ipm.xml\n",
      "-rw-r--r--  1 zhuangjw  staff   2.9M Sep 30 12:27 N32n1152_openmpi_4x5met_nooutput.ipm.xml\n",
      "-rw-r--r--  1 zhuangjw  staff   346K Sep 29 10:31 N4n144_intelmpi-EFA_4x5met_nooutput.ipm.xml\n",
      "-rw-r--r--  1 zhuangjw  staff   346K Oct 18 13:02 N4n144_intelmpi-TCP_4x5met_nooutput.ipm.xml\n",
      "-rw-r--r--  1 zhuangjw  staff   367K Oct 18 12:59 N4n144_openmpi_4x5met_nooutput.ipm.xml\n",
      "-rw-r--r--  1 zhuangjw  staff   691K Sep 26 13:46 N8n288_intelmpi-EFA_4x5met_nooutput.ipm.xml\n",
      "-rw-r--r--  1 zhuangjw  staff   690K Sep 27 10:08 N8n288_intelmpi-TCP_4x5met_nooutput.ipm.xml\n",
      "-rw-r--r--  1 zhuangjw  staff   733K Sep 29 11:20 N8n288_openmpi_4x5met_nooutput.ipm.xml\n",
      "-rw-r--r--@ 1 zhuangjw  staff   733K Oct  2 14:38 N8n288_openmpi_4x5met_nooutput_noCHEM.ipm.xml\n"
     ]
    }
   ],
   "source": [
    "ls -lh ./logs/ipm_profiling/"
   ]
  },
  {
   "cell_type": "code",
   "execution_count": 3,
   "metadata": {},
   "outputs": [
    {
     "data": {
      "text/plain": [
       "['./logs/ipm_profiling/N4n144_intelmpi-EFA_4x5met_nooutput.ipm.xml',\n",
       " './logs/ipm_profiling/N8n288_intelmpi-EFA_4x5met_nooutput.ipm.xml',\n",
       " './logs/ipm_profiling/N16n576_intelmpi-EFA_4x5met_nooutput.ipm.xml',\n",
       " './logs/ipm_profiling/N32n1152_intelmpi-EFA_4x5met_nooutput.ipm.xml']"
      ]
     },
     "execution_count": 3,
     "metadata": {},
     "output_type": "execute_result"
    }
   ],
   "source": [
    "impi_log_list = [\n",
    "    './logs/ipm_profiling/N{0}n{1}_intelmpi-EFA_4x5met_nooutput.ipm.xml'.format(N, N*36)\n",
    "    for N in [4, 8, 16, 32]\n",
    "]\n",
    "impi_log_list"
   ]
  },
  {
   "cell_type": "code",
   "execution_count": 4,
   "metadata": {},
   "outputs": [
    {
     "name": "stdout",
     "output_type": "stream",
     "text": [
      "CPU times: user 4.61 s, sys: 50.7 ms, total: 4.66 s\n",
      "Wall time: 4.69 s\n"
     ]
    }
   ],
   "source": [
    "%time df_impi_list = [log_to_dataframe(log) for log in impi_log_list]"
   ]
  },
  {
   "cell_type": "code",
   "execution_count": 5,
   "metadata": {},
   "outputs": [
    {
     "data": {
      "text/plain": [
       "['./logs/ipm_profiling/N4n144_openmpi_4x5met_nooutput.ipm.xml',\n",
       " './logs/ipm_profiling/N8n288_openmpi_4x5met_nooutput.ipm.xml',\n",
       " './logs/ipm_profiling/N16n576_openmpi_4x5met_nooutput.ipm.xml',\n",
       " './logs/ipm_profiling/N32n1152_openmpi_4x5met_nooutput.ipm.xml']"
      ]
     },
     "execution_count": 5,
     "metadata": {},
     "output_type": "execute_result"
    }
   ],
   "source": [
    "ompi_log_list = [\n",
    "    './logs/ipm_profiling/N{0}n{1}_openmpi_4x5met_nooutput.ipm.xml'.format(N, N*36)\n",
    "    for N in [4, 8, 16, 32]\n",
    "]\n",
    "ompi_log_list"
   ]
  },
  {
   "cell_type": "code",
   "execution_count": 6,
   "metadata": {},
   "outputs": [
    {
     "name": "stdout",
     "output_type": "stream",
     "text": [
      "CPU times: user 4.43 s, sys: 21.6 ms, total: 4.45 s\n",
      "Wall time: 4.46 s\n"
     ]
    }
   ],
   "source": [
    "%time df_ompi_list = [log_to_dataframe(log) for log in ompi_log_list]"
   ]
  },
  {
   "cell_type": "code",
   "execution_count": 7,
   "metadata": {},
   "outputs": [
    {
     "data": {
      "text/html": [
       "<div>\n",
       "<style scoped>\n",
       "    .dataframe tbody tr th:only-of-type {\n",
       "        vertical-align: middle;\n",
       "    }\n",
       "\n",
       "    .dataframe tbody tr th {\n",
       "        vertical-align: top;\n",
       "    }\n",
       "\n",
       "    .dataframe thead th {\n",
       "        text-align: right;\n",
       "    }\n",
       "</style>\n",
       "<table border=\"1\" class=\"dataframe\">\n",
       "  <thead>\n",
       "    <tr style=\"text-align: right;\">\n",
       "      <th>name</th>\n",
       "      <th>MPI_Init</th>\n",
       "      <th>MPI_Comm_rank</th>\n",
       "      <th>MPI_Comm_size</th>\n",
       "      <th>MPI_Isend</th>\n",
       "      <th>MPI_Recv</th>\n",
       "      <th>MPI_Irecv</th>\n",
       "      <th>MPI_Wait</th>\n",
       "      <th>MPI_Bcast</th>\n",
       "      <th>MPI_Barrier</th>\n",
       "      <th>MPI_Gatherv</th>\n",
       "      <th>MPI_Scatterv</th>\n",
       "      <th>MPI_Allgather</th>\n",
       "      <th>MPI_Allreduce</th>\n",
       "      <th>MPI_Comm_group</th>\n",
       "      <th>MPI_Comm_create</th>\n",
       "      <th>MPI_Comm_split</th>\n",
       "    </tr>\n",
       "    <tr>\n",
       "      <th>rank</th>\n",
       "      <th></th>\n",
       "      <th></th>\n",
       "      <th></th>\n",
       "      <th></th>\n",
       "      <th></th>\n",
       "      <th></th>\n",
       "      <th></th>\n",
       "      <th></th>\n",
       "      <th></th>\n",
       "      <th></th>\n",
       "      <th></th>\n",
       "      <th></th>\n",
       "      <th></th>\n",
       "      <th></th>\n",
       "      <th></th>\n",
       "      <th></th>\n",
       "    </tr>\n",
       "  </thead>\n",
       "  <tbody>\n",
       "    <tr>\n",
       "      <th>139</th>\n",
       "      <td>0.0</td>\n",
       "      <td>0.000194</td>\n",
       "      <td>0.001044</td>\n",
       "      <td>8.6395</td>\n",
       "      <td>0.000606</td>\n",
       "      <td>0.97202</td>\n",
       "      <td>596.17</td>\n",
       "      <td>1020.2</td>\n",
       "      <td>13889.0</td>\n",
       "      <td>12.8410</td>\n",
       "      <td>94.604</td>\n",
       "      <td>0.001392</td>\n",
       "      <td>467.28</td>\n",
       "      <td>0.000003</td>\n",
       "      <td>0.006457</td>\n",
       "      <td>0.17120</td>\n",
       "    </tr>\n",
       "    <tr>\n",
       "      <th>140</th>\n",
       "      <td>0.0</td>\n",
       "      <td>0.000150</td>\n",
       "      <td>0.001052</td>\n",
       "      <td>6.4668</td>\n",
       "      <td>0.000341</td>\n",
       "      <td>0.97072</td>\n",
       "      <td>619.02</td>\n",
       "      <td>1020.2</td>\n",
       "      <td>14168.0</td>\n",
       "      <td>9.0084</td>\n",
       "      <td>94.605</td>\n",
       "      <td>0.001073</td>\n",
       "      <td>442.53</td>\n",
       "      <td>0.000004</td>\n",
       "      <td>0.006507</td>\n",
       "      <td>0.17079</td>\n",
       "    </tr>\n",
       "    <tr>\n",
       "      <th>141</th>\n",
       "      <td>0.0</td>\n",
       "      <td>0.000186</td>\n",
       "      <td>0.001066</td>\n",
       "      <td>4.9191</td>\n",
       "      <td>0.001122</td>\n",
       "      <td>0.96730</td>\n",
       "      <td>584.90</td>\n",
       "      <td>1020.3</td>\n",
       "      <td>14254.0</td>\n",
       "      <td>10.4210</td>\n",
       "      <td>94.614</td>\n",
       "      <td>0.000928</td>\n",
       "      <td>416.03</td>\n",
       "      <td>0.000003</td>\n",
       "      <td>0.006746</td>\n",
       "      <td>0.17099</td>\n",
       "    </tr>\n",
       "    <tr>\n",
       "      <th>142</th>\n",
       "      <td>0.0</td>\n",
       "      <td>0.000138</td>\n",
       "      <td>0.001069</td>\n",
       "      <td>3.6588</td>\n",
       "      <td>0.002397</td>\n",
       "      <td>0.97237</td>\n",
       "      <td>562.50</td>\n",
       "      <td>1020.1</td>\n",
       "      <td>13958.0</td>\n",
       "      <td>11.6190</td>\n",
       "      <td>94.531</td>\n",
       "      <td>0.001097</td>\n",
       "      <td>403.80</td>\n",
       "      <td>0.000004</td>\n",
       "      <td>0.006702</td>\n",
       "      <td>0.17122</td>\n",
       "    </tr>\n",
       "    <tr>\n",
       "      <th>143</th>\n",
       "      <td>0.0</td>\n",
       "      <td>0.000173</td>\n",
       "      <td>0.001046</td>\n",
       "      <td>3.4114</td>\n",
       "      <td>0.003327</td>\n",
       "      <td>0.95034</td>\n",
       "      <td>435.67</td>\n",
       "      <td>1020.3</td>\n",
       "      <td>13676.0</td>\n",
       "      <td>12.6740</td>\n",
       "      <td>94.615</td>\n",
       "      <td>0.001063</td>\n",
       "      <td>507.92</td>\n",
       "      <td>0.000004</td>\n",
       "      <td>0.006600</td>\n",
       "      <td>0.17029</td>\n",
       "    </tr>\n",
       "  </tbody>\n",
       "</table>\n",
       "</div>"
      ],
      "text/plain": [
       "name  MPI_Init  MPI_Comm_rank  MPI_Comm_size  MPI_Isend  MPI_Recv  MPI_Irecv  \\\n",
       "rank                                                                           \n",
       "139        0.0       0.000194       0.001044     8.6395  0.000606    0.97202   \n",
       "140        0.0       0.000150       0.001052     6.4668  0.000341    0.97072   \n",
       "141        0.0       0.000186       0.001066     4.9191  0.001122    0.96730   \n",
       "142        0.0       0.000138       0.001069     3.6588  0.002397    0.97237   \n",
       "143        0.0       0.000173       0.001046     3.4114  0.003327    0.95034   \n",
       "\n",
       "name  MPI_Wait  MPI_Bcast  MPI_Barrier  MPI_Gatherv  MPI_Scatterv  \\\n",
       "rank                                                                \n",
       "139     596.17     1020.2      13889.0      12.8410        94.604   \n",
       "140     619.02     1020.2      14168.0       9.0084        94.605   \n",
       "141     584.90     1020.3      14254.0      10.4210        94.614   \n",
       "142     562.50     1020.1      13958.0      11.6190        94.531   \n",
       "143     435.67     1020.3      13676.0      12.6740        94.615   \n",
       "\n",
       "name  MPI_Allgather  MPI_Allreduce  MPI_Comm_group  MPI_Comm_create  \\\n",
       "rank                                                                  \n",
       "139        0.001392         467.28        0.000003         0.006457   \n",
       "140        0.001073         442.53        0.000004         0.006507   \n",
       "141        0.000928         416.03        0.000003         0.006746   \n",
       "142        0.001097         403.80        0.000004         0.006702   \n",
       "143        0.001063         507.92        0.000004         0.006600   \n",
       "\n",
       "name  MPI_Comm_split  \n",
       "rank                  \n",
       "139          0.17120  \n",
       "140          0.17079  \n",
       "141          0.17099  \n",
       "142          0.17122  \n",
       "143          0.17029  "
      ]
     },
     "execution_count": 7,
     "metadata": {},
     "output_type": "execute_result"
    }
   ],
   "source": [
    "df_impi_list[0].tail()"
   ]
  },
  {
   "cell_type": "code",
   "execution_count": 8,
   "metadata": {},
   "outputs": [
    {
     "data": {
      "text/plain": [
       "name\n",
       "MPI_Init               0.000000\n",
       "MPI_Comm_group         0.000004\n",
       "MPI_Comm_rank          0.000168\n",
       "MPI_Comm_size          0.001055\n",
       "MPI_Allgather          0.001111\n",
       "MPI_Recv               0.001559\n",
       "MPI_Comm_create        0.006602\n",
       "MPI_Comm_split         0.170898\n",
       "MPI_Irecv              0.966550\n",
       "MPI_Isend              5.419120\n",
       "MPI_Gatherv           11.312680\n",
       "MPI_Scatterv          94.593800\n",
       "MPI_Allreduce        447.512000\n",
       "MPI_Wait             559.652000\n",
       "MPI_Bcast           1020.220000\n",
       "MPI_Barrier        13989.000000\n",
       "dtype: float64"
      ]
     },
     "execution_count": 8,
     "metadata": {},
     "output_type": "execute_result"
    }
   ],
   "source": [
    "df_impi_list[0].tail().mean().sort_values()"
   ]
  },
  {
   "cell_type": "markdown",
   "metadata": {},
   "source": [
    "# Show statistics"
   ]
  },
  {
   "cell_type": "code",
   "execution_count": 9,
   "metadata": {},
   "outputs": [
    {
     "data": {
      "text/html": [
       "<div>\n",
       "<style scoped>\n",
       "    .dataframe tbody tr th:only-of-type {\n",
       "        vertical-align: middle;\n",
       "    }\n",
       "\n",
       "    .dataframe tbody tr th {\n",
       "        vertical-align: top;\n",
       "    }\n",
       "\n",
       "    .dataframe thead th {\n",
       "        text-align: right;\n",
       "    }\n",
       "</style>\n",
       "<table border=\"1\" class=\"dataframe\">\n",
       "  <thead>\n",
       "    <tr style=\"text-align: right;\">\n",
       "      <th>name</th>\n",
       "      <th>MPI_Barrier</th>\n",
       "      <th>MPI_Bcast</th>\n",
       "      <th>MPI_Allreduce</th>\n",
       "      <th>MPI_Wait</th>\n",
       "      <th>MPI_Scatterv</th>\n",
       "    </tr>\n",
       "    <tr>\n",
       "      <th>core</th>\n",
       "      <th></th>\n",
       "      <th></th>\n",
       "      <th></th>\n",
       "      <th></th>\n",
       "      <th></th>\n",
       "    </tr>\n",
       "  </thead>\n",
       "  <tbody>\n",
       "    <tr>\n",
       "      <th>144</th>\n",
       "      <td>13237.152778</td>\n",
       "      <td>1012.777347</td>\n",
       "      <td>441.303611</td>\n",
       "      <td>313.282708</td>\n",
       "      <td>93.711376</td>\n",
       "    </tr>\n",
       "    <tr>\n",
       "      <th>288</th>\n",
       "      <td>7892.902431</td>\n",
       "      <td>915.997903</td>\n",
       "      <td>315.397292</td>\n",
       "      <td>264.057951</td>\n",
       "      <td>71.130900</td>\n",
       "    </tr>\n",
       "    <tr>\n",
       "      <th>576</th>\n",
       "      <td>4398.769444</td>\n",
       "      <td>933.306441</td>\n",
       "      <td>219.865069</td>\n",
       "      <td>227.424878</td>\n",
       "      <td>71.906409</td>\n",
       "    </tr>\n",
       "    <tr>\n",
       "      <th>1152</th>\n",
       "      <td>2534.985590</td>\n",
       "      <td>958.795104</td>\n",
       "      <td>179.971660</td>\n",
       "      <td>455.441771</td>\n",
       "      <td>76.061970</td>\n",
       "    </tr>\n",
       "  </tbody>\n",
       "</table>\n",
       "</div>"
      ],
      "text/plain": [
       "name   MPI_Barrier    MPI_Bcast  MPI_Allreduce    MPI_Wait  MPI_Scatterv\n",
       "core                                                                    \n",
       "144   13237.152778  1012.777347     441.303611  313.282708     93.711376\n",
       "288    7892.902431   915.997903     315.397292  264.057951     71.130900\n",
       "576    4398.769444   933.306441     219.865069  227.424878     71.906409\n",
       "1152   2534.985590   958.795104     179.971660  455.441771     76.061970"
      ]
     },
     "execution_count": 9,
     "metadata": {},
     "output_type": "execute_result"
    }
   ],
   "source": [
    "major_columns = [\n",
    "    'MPI_Barrier', 'MPI_Bcast', 'MPI_Allreduce', 'MPI_Wait', 'MPI_Scatterv']\n",
    "\n",
    "def mean_df(df_list):\n",
    "    '''Average over all ranks; extract major columns'''\n",
    "    df_mean = pd.concat([df[major_columns].mean() for df in df_list], axis=1).T\n",
    "    df_mean.index = [144, 288, 576, 1152]\n",
    "    df_mean.index.name = 'core'\n",
    "    return df_mean\n",
    "\n",
    "mean_impi = mean_df(df_impi_list)\n",
    "mean_impi"
   ]
  },
  {
   "cell_type": "code",
   "execution_count": 10,
   "metadata": {},
   "outputs": [
    {
     "data": {
      "text/html": [
       "<div>\n",
       "<style scoped>\n",
       "    .dataframe tbody tr th:only-of-type {\n",
       "        vertical-align: middle;\n",
       "    }\n",
       "\n",
       "    .dataframe tbody tr th {\n",
       "        vertical-align: top;\n",
       "    }\n",
       "\n",
       "    .dataframe thead th {\n",
       "        text-align: right;\n",
       "    }\n",
       "</style>\n",
       "<table border=\"1\" class=\"dataframe\">\n",
       "  <thead>\n",
       "    <tr style=\"text-align: right;\">\n",
       "      <th>name</th>\n",
       "      <th>MPI_Barrier</th>\n",
       "      <th>MPI_Bcast</th>\n",
       "      <th>MPI_Allreduce</th>\n",
       "      <th>MPI_Wait</th>\n",
       "      <th>MPI_Scatterv</th>\n",
       "    </tr>\n",
       "    <tr>\n",
       "      <th>core</th>\n",
       "      <th></th>\n",
       "      <th></th>\n",
       "      <th></th>\n",
       "      <th></th>\n",
       "      <th></th>\n",
       "    </tr>\n",
       "  </thead>\n",
       "  <tbody>\n",
       "    <tr>\n",
       "      <th>144</th>\n",
       "      <td>13316.185417</td>\n",
       "      <td>626.964306</td>\n",
       "      <td>380.528125</td>\n",
       "      <td>309.667986</td>\n",
       "      <td>91.228549</td>\n",
       "    </tr>\n",
       "    <tr>\n",
       "      <th>288</th>\n",
       "      <td>7917.852778</td>\n",
       "      <td>842.739271</td>\n",
       "      <td>309.154653</td>\n",
       "      <td>256.930729</td>\n",
       "      <td>73.166267</td>\n",
       "    </tr>\n",
       "    <tr>\n",
       "      <th>576</th>\n",
       "      <td>4687.262847</td>\n",
       "      <td>1726.331597</td>\n",
       "      <td>402.136076</td>\n",
       "      <td>368.096354</td>\n",
       "      <td>107.603682</td>\n",
       "    </tr>\n",
       "    <tr>\n",
       "      <th>1152</th>\n",
       "      <td>3151.754080</td>\n",
       "      <td>3727.461806</td>\n",
       "      <td>667.764470</td>\n",
       "      <td>1259.830651</td>\n",
       "      <td>173.598707</td>\n",
       "    </tr>\n",
       "  </tbody>\n",
       "</table>\n",
       "</div>"
      ],
      "text/plain": [
       "name   MPI_Barrier    MPI_Bcast  MPI_Allreduce     MPI_Wait  MPI_Scatterv\n",
       "core                                                                     \n",
       "144   13316.185417   626.964306     380.528125   309.667986     91.228549\n",
       "288    7917.852778   842.739271     309.154653   256.930729     73.166267\n",
       "576    4687.262847  1726.331597     402.136076   368.096354    107.603682\n",
       "1152   3151.754080  3727.461806     667.764470  1259.830651    173.598707"
      ]
     },
     "execution_count": 10,
     "metadata": {},
     "output_type": "execute_result"
    }
   ],
   "source": [
    "mean_ompi = pd.concat([df[major_columns].mean() for df in df_ompi_list], axis=1).T\n",
    "mean_ompi.index = [144, 288, 576, 1152]\n",
    "mean_ompi.index.name = 'core'\n",
    "\n",
    "mean_ompi = mean_df(df_ompi_list)\n",
    "mean_ompi"
   ]
  },
  {
   "cell_type": "markdown",
   "metadata": {},
   "source": [
    "# Compare MPI calls"
   ]
  },
  {
   "cell_type": "code",
   "execution_count": 11,
   "metadata": {},
   "outputs": [],
   "source": [
    "plt.rcParams['font.size'] = 14"
   ]
  },
  {
   "cell_type": "code",
   "execution_count": 12,
   "metadata": {},
   "outputs": [
    {
     "data": {
      "text/plain": [
       "<matplotlib.axes._subplots.AxesSubplot at 0x117afa5d0>"
      ]
     },
     "execution_count": 12,
     "metadata": {},
     "output_type": "execute_result"
    },
    {
     "data": {
      "image/png": "[encoded data removed]",
      "text/plain": [
       "<Figure size 432x288 with 1 Axes>"
      ]
     },
     "metadata": {
      "needs_background": "light"
     },
     "output_type": "display_data"
    }
   ],
   "source": [
    "mean_impi.iloc[0].plot.barh()"
   ]
  },
  {
   "cell_type": "code",
   "execution_count": 13,
   "metadata": {},
   "outputs": [
    {
     "data": {
      "text/plain": [
       "Text(0.5, 1.0, 'IPM profiling (IntelMPI-EFA, 144 cores)')"
      ]
     },
     "execution_count": 13,
     "metadata": {},
     "output_type": "execute_result"
    },
    {
     "data": {
      "image/png": "[encoded data removed]",
      "text/plain": [
       "<Figure size 432x288 with 3 Axes>"
      ]
     },
     "metadata": {
      "needs_background": "light"
     },
     "output_type": "display_data"
    }
   ],
   "source": [
    "# https://github.com/bendichter/brokenaxes/issues/11#issuecomment-373650734\n",
    "\n",
    "bax = brokenaxes(xlims=((0, 2000), (13000, 14000)), wspace=0.4)\n",
    "bax.barh(mean_impi.columns[::-1], mean_impi.values[0][::-1])\n",
    "\n",
    "bax.set_xlabel('\\n time (s)')\n",
    "bax.set_title('IPM profiling (IntelMPI-EFA, 144 cores)')"
   ]
  },
  {
   "cell_type": "code",
   "execution_count": 14,
   "metadata": {},
   "outputs": [
    {
     "data": {
      "text/plain": [
       "<matplotlib.axes._subplots.AxesSubplot at 0x117a76a90>"
      ]
     },
     "execution_count": 14,
     "metadata": {},
     "output_type": "execute_result"
    },
    {
     "data": {
      "image/png": "[encoded data removed]",
      "text/plain": [
       "<Figure size 432x288 with 1 Axes>"
      ]
     },
     "metadata": {
      "needs_background": "light"
     },
     "output_type": "display_data"
    }
   ],
   "source": [
    "mean_impi.T.plot.barh(logx=True)"
   ]
  },
  {
   "cell_type": "code",
   "execution_count": 15,
   "metadata": {},
   "outputs": [
    {
     "data": {
      "text/html": [
       "<div>\n",
       "<style scoped>\n",
       "    .dataframe tbody tr th:only-of-type {\n",
       "        vertical-align: middle;\n",
       "    }\n",
       "\n",
       "    .dataframe tbody tr th {\n",
       "        vertical-align: top;\n",
       "    }\n",
       "\n",
       "    .dataframe thead th {\n",
       "        text-align: right;\n",
       "    }\n",
       "</style>\n",
       "<table border=\"1\" class=\"dataframe\">\n",
       "  <thead>\n",
       "    <tr style=\"text-align: right;\">\n",
       "      <th></th>\n",
       "      <th>IntelMPI-EFA</th>\n",
       "      <th>OpenMPI-TCP</th>\n",
       "    </tr>\n",
       "    <tr>\n",
       "      <th></th>\n",
       "      <th></th>\n",
       "      <th></th>\n",
       "    </tr>\n",
       "  </thead>\n",
       "  <tbody>\n",
       "    <tr>\n",
       "      <th>MPI_Barrier</th>\n",
       "      <td>2534.985590</td>\n",
       "      <td>3151.754080</td>\n",
       "    </tr>\n",
       "    <tr>\n",
       "      <th>MPI_Bcast</th>\n",
       "      <td>958.795104</td>\n",
       "      <td>3727.461806</td>\n",
       "    </tr>\n",
       "    <tr>\n",
       "      <th>MPI_Allreduce</th>\n",
       "      <td>179.971660</td>\n",
       "      <td>667.764470</td>\n",
       "    </tr>\n",
       "    <tr>\n",
       "      <th>MPI_Wait</th>\n",
       "      <td>455.441771</td>\n",
       "      <td>1259.830651</td>\n",
       "    </tr>\n",
       "    <tr>\n",
       "      <th>MPI_Scatterv</th>\n",
       "      <td>76.061970</td>\n",
       "      <td>173.598707</td>\n",
       "    </tr>\n",
       "  </tbody>\n",
       "</table>\n",
       "</div>"
      ],
      "text/plain": [
       "               IntelMPI-EFA  OpenMPI-TCP\n",
       "                                        \n",
       "MPI_Barrier     2534.985590  3151.754080\n",
       "MPI_Bcast        958.795104  3727.461806\n",
       "MPI_Allreduce    179.971660   667.764470\n",
       "MPI_Wait         455.441771  1259.830651\n",
       "MPI_Scatterv      76.061970   173.598707"
      ]
     },
     "execution_count": 15,
     "metadata": {},
     "output_type": "execute_result"
    }
   ],
   "source": [
    "df_compare = pd.concat([mean_impi.iloc[-1], mean_ompi.iloc[-1]], axis=1, \n",
    "                       keys=['IntelMPI-EFA', 'OpenMPI-TCP'])\n",
    "df_compare.index.name = ''\n",
    "df_compare"
   ]
  },
  {
   "cell_type": "code",
   "execution_count": 16,
   "metadata": {},
   "outputs": [
    {
     "data": {
      "image/png": "[encoded data removed]",
      "text/plain": [
       "<Figure size 324x288 with 1 Axes>"
      ]
     },
     "metadata": {
      "needs_background": "light"
     },
     "output_type": "display_data"
    }
   ],
   "source": [
    "(df_compare/3600).iloc[::-1, ::-1].plot.barh(legend='reverse', color=['C1', 'C0'], figsize=[4.5, 4])\n",
    "plt.title('(a) IPM profiling on GCHP (1152 cores)')\n",
    "plt.xlabel('Time (hours)')\n",
    "plt.savefig('gchp-all-mpi.png', dpi=300, bbox_inches='tight')"
   ]
  },
  {
   "cell_type": "markdown",
   "metadata": {},
   "source": [
    "# Plot MPI scaling"
   ]
  },
  {
   "cell_type": "code",
   "execution_count": 17,
   "metadata": {},
   "outputs": [
    {
     "data": {
      "image/png": "[encoded data removed]",
      "text/plain": [
       "<Figure size 324x288 with 1 Axes>"
      ]
     },
     "metadata": {
      "needs_background": "light"
     },
     "output_type": "display_data"
    }
   ],
   "source": [
    "fig, ax = plt.subplots(1, 1, figsize=[4.5, 4])\n",
    "\n",
    "plot_kwargs = dict(ax=ax, linestyle='-', marker='o', linewidth=2.5, markersize=7.0, alpha=0.8)\n",
    "(mean_impi['MPI_Bcast']/3600).plot(**plot_kwargs, label='IntelMPI-EFA')\n",
    "(mean_ompi['MPI_Bcast']/3600).plot(**plot_kwargs, label='OpenMPI-TCP')\n",
    "\n",
    "marker_list = ['.','o']\n",
    "linestyle_list = ['-',':']\n",
    "for i, line in enumerate(ax.get_lines()[:3]):\n",
    "    line.set_marker(marker_list[i])\n",
    "    line.set_linestyle(linestyle_list[i])\n",
    "\n",
    "ax.set_title('(b) MPI_Bcast time in GCHP')\n",
    "ax.legend()\n",
    "ax.grid()\n",
    "\n",
    "ax.set_xscale('log')\n",
    "ax.xaxis.set_major_formatter(ScalarFormatter())\n",
    "ax.minorticks_off()\n",
    "\n",
    "ax.set_xticks(mean_impi.index)\n",
    "ax.set_xlim(130, 1300)\n",
    "\n",
    "ax.set_ylabel('Time (hours)')\n",
    "ax.set_ylim(0, 1.1)\n",
    "\n",
    "fig.savefig('gchp_mpi_bcast.png', dpi=300, bbox_inches='tight')"
   ]
  }
 ],
 "metadata": {
  "kernelspec": {
   "display_name": "Python 3",
   "language": "python",
   "name": "python3"
  },
  "language_info": {
   "codemirror_mode": {
    "name": "ipython",
    "version": 3
   },
   "file_extension": ".py",
   "mimetype": "text/x-python",
   "name": "python",
   "nbconvert_exporter": "python",
   "pygments_lexer": "ipython3",
   "version": "3.7.4"
  }
 },
 "nbformat": 4,
 "nbformat_minor": 4
}
